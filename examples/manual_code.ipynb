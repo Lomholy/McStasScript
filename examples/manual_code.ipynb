{
 "cells": [
  {
   "cell_type": "code",
   "execution_count": 1,
   "metadata": {},
   "outputs": [],
   "source": [
    "import sys\n",
    "sys.path.append('/Users/madsbertelsen/PaNOSC/McStasScript') # Path to McStasScript pythoon file\n",
    "\n",
    "from mcstasscript.interface import instr, plotter, functions\n",
    "\n",
    "# Creating the instance of the class, insert path to mcrun and to mcstas root directory\n",
    "detector = instr.McStas_instr(\"LOKI_detector\",\n",
    "                              mcrun_path = \"/Applications/McStas-2.5.app/Contents/Resources/mcstas/2.5/bin\",\n",
    "                              mcstas_path = \"/Applications/McStas-2.5.app/Contents/Resources/mcstas/2.5\")"
   ]
  },
  {
   "cell_type": "code",
   "execution_count": 2,
   "metadata": {},
   "outputs": [],
   "source": [
    "detector.add_parameter(\"wavelength\")\n",
    "detector.add_parameter(\"height\",value=1.0,comment=\"Height in [m]\")\n",
    "detector.add_parameter(\"string\",\"reflection_filename\")\n",
    "detector.add_parameter(\"string\",\"data_filename\",value=\"\\\"data.dat\\\"\")"
   ]
  },
  {
   "cell_type": "code",
   "execution_count": 3,
   "metadata": {},
   "outputs": [],
   "source": [
    "detector.add_declare_var(\"double\",\"energy\")\n",
    "detector.add_declare_var(\"int\",\"flag\")\n",
    "detector.add_declare_var(\"double\",\"tube_radius\",value=0.013)\n",
    "detector.add_declare_var(\"double\",\"displacements\",array=7)\n",
    "detector.add_declare_var(\"double\",\"t_array\",array=4,value=[0.65E-6,0.65E-6,1E-6,1E-6])"
   ]
  },
  {
   "cell_type": "code",
   "execution_count": 4,
   "metadata": {},
   "outputs": [],
   "source": [
    "detector.append_initialize(\"energy=pow(2*PI/wavelength*K2V,2)*VS2E;\")"
   ]
  },
  {
   "cell_type": "code",
   "execution_count": 5,
   "metadata": {},
   "outputs": [
    {
     "data": {
      "text/plain": [
       "<mcstasscript.interface.instr.Guide_gravity at 0x11d4f45f8>"
      ]
     },
     "execution_count": 5,
     "metadata": {},
     "output_type": "execute_result"
    }
   ],
   "source": [
    "detector.add_component(\"Origin\",\"Arm\")\n",
    "src = detector.add_component(\"source\",\"Source_simple\",RELATIVE=\"Origin\")\n",
    "detector.add_component(\"beam_extraction\",\"Guide_gravity\",AT=[0,0,2],RELATIVE=\"source\")"
   ]
  },
  {
   "cell_type": "code",
   "execution_count": 6,
   "metadata": {},
   "outputs": [
    {
     "data": {
      "text/plain": [
       "<mcstasscript.interface.instr.Slit at 0x11d4ea6d8>"
      ]
     },
     "execution_count": 6,
     "metadata": {},
     "output_type": "execute_result"
    }
   ],
   "source": [
    "detector.add_component(\"pre_guide_slit\",\"Slit\",before=\"beam_extraction\",\n",
    "                       AT=[0,0,1],RELATIVE=\"source\",comment=\"Slit before the guide\")"
   ]
  },
  {
   "cell_type": "code",
   "execution_count": 7,
   "metadata": {},
   "outputs": [
    {
     "name": "stdout",
     "output_type": "stream",
     "text": [
      "Origin            Arm             AT  [0, 0, 0]     ABSOLUTE          ROTATED  [0, 0, 0]     ABSOLUTE\n",
      "source            Source_simple   AT  [0, 0, 0]     RELATIVE Origin   ROTATED  [0, 0, 0]     RELATIVE Origin\n",
      "pre_guide_slit    Slit            AT  [0, 0, 1]     RELATIVE source   ROTATED  [0, 0, 0]     RELATIVE source\n",
      "beam_extraction   Guide_gravity   AT  [0, 0, 2]     RELATIVE source   ROTATED  [0, 0, 0]     RELATIVE source\n"
     ]
    }
   ],
   "source": [
    "detector.print_components()"
   ]
  },
  {
   "cell_type": "code",
   "execution_count": 8,
   "metadata": {},
   "outputs": [],
   "source": [
    "detector.set_component_parameter(\"source\",{\"xwidth\" : 0.12, \"E0\" : \"energy\"})\n",
    "detector.set_component_parameter(\"source\",{\"yheight\" : 0.12})"
   ]
  },
  {
   "cell_type": "code",
   "execution_count": 9,
   "metadata": {},
   "outputs": [
    {
     "name": "stdout",
     "output_type": "stream",
     "text": [
      "COMPONENT source = Source_simple\n",
      "  \u001b[1myheight\u001b[0m = \u001b[1m\u001b[92m0.12\u001b[0m\u001b[0m [m]\n",
      "  \u001b[1mxwidth\u001b[0m = \u001b[1m\u001b[92m0.12\u001b[0m\u001b[0m [m]\n",
      "  \u001b[1mE0\u001b[0m = \u001b[1m\u001b[92menergy\u001b[0m\u001b[0m [meV]\n",
      "AT [0, 0, 0] RELATIVE Origin\n",
      "ROTATED [0, 0, 0] RELATIVE Origin\n"
     ]
    }
   ],
   "source": [
    "detector.print_component(\"source\")"
   ]
  },
  {
   "cell_type": "code",
   "execution_count": 10,
   "metadata": {},
   "outputs": [],
   "source": [
    "detector.set_component_AT(\"source\",[0.01,0,0])"
   ]
  },
  {
   "cell_type": "code",
   "execution_count": 11,
   "metadata": {},
   "outputs": [],
   "source": [
    "detector.set_component_ROTATED(\"beam_extraction\",[0,2.0,0],RELATIVE=\"Origin\")"
   ]
  },
  {
   "cell_type": "code",
   "execution_count": 12,
   "metadata": {},
   "outputs": [],
   "source": [
    "detector.set_component_RELATIVE(\"beam_extraction\",\"pre_guide_slit\")"
   ]
  },
  {
   "cell_type": "code",
   "execution_count": 20,
   "metadata": {},
   "outputs": [
    {
     "name": "stdout",
     "output_type": "stream",
     "text": [
      "Origin            Arm             AT  [0, 0, 0]        ABSOLUTE                  ROTATED  [0, 0, 0]       ABSOLUTE\n",
      "source            Source_simple   AT  [0.01, 0, 0]     RELATIVE Origin           ROTATED  [0, 0, 0]       RELATIVE Origin\n",
      "pre_guide_slit    Slit            AT  [0, 0, 1]        RELATIVE source           ROTATED  [0, 0, 0]       RELATIVE source\n",
      "beam_extraction   Guide_gravity   AT  [0, 0, 2]        RELATIVE pre_guide_slit   ROTATED  [0, 2.0, 0]     RELATIVE pre_guide_slit\n"
     ]
    }
   ],
   "source": [
    "detector.print_components()"
   ]
  },
  {
   "cell_type": "code",
   "execution_count": 13,
   "metadata": {},
   "outputs": [
    {
     "name": "stdout",
     "output_type": "stream",
     "text": [
      "COMPONENT beam_extraction = Guide_gravity\n",
      "  \u001b[1mw1\u001b[0m\u001b[91m : Required parameter not yet specified\u001b[0m\n",
      "  \u001b[1mh1\u001b[0m\u001b[91m : Required parameter not yet specified\u001b[0m\n",
      "  \u001b[1ml\u001b[0m\u001b[91m : Required parameter not yet specified\u001b[0m\n",
      "WHEN (vx > 0)\n",
      "AT [0, 0, 2] RELATIVE pre_guide_slit\n",
      "ROTATED [0, 2.0, 0] RELATIVE pre_guide_slit\n"
     ]
    }
   ],
   "source": [
    "detector.set_component_WHEN(\"beam_extraction\",\"vx > 0\")\n",
    "detector.print_component(\"beam_extraction\")"
   ]
  },
  {
   "cell_type": "code",
   "execution_count": 14,
   "metadata": {},
   "outputs": [
    {
     "name": "stdout",
     "output_type": "stream",
     "text": [
      "COMPONENT beam_extraction = Guide_gravity\n",
      "  \u001b[1mw1\u001b[0m\u001b[91m : Required parameter not yet specified\u001b[0m\n",
      "  \u001b[1mh1\u001b[0m\u001b[91m : Required parameter not yet specified\u001b[0m\n",
      "  \u001b[1ml\u001b[0m\u001b[91m : Required parameter not yet specified\u001b[0m\n",
      "WHEN (vx > 0)\n",
      "AT [0, 0, 2] RELATIVE pre_guide_slit\n",
      "ROTATED [0, 2.0, 0] RELATIVE pre_guide_slit\n",
      "EXTEND %{\n",
      "n_scattering = SCATTERED - 2\n",
      "%}\n"
     ]
    }
   ],
   "source": [
    "detector.append_component_EXTEND(\"beam_extraction\",\"n_scattering = SCATTERED - 2\")\n",
    "detector.print_component(\"beam_extraction\")"
   ]
  },
  {
   "cell_type": "code",
   "execution_count": 15,
   "metadata": {},
   "outputs": [
    {
     "name": "stdout",
     "output_type": "stream",
     "text": [
      "COMPONENT beam_extraction = Guide_gravity\n",
      "  \u001b[1mw1\u001b[0m\u001b[91m : Required parameter not yet specified\u001b[0m\n",
      "  \u001b[1mh1\u001b[0m\u001b[91m : Required parameter not yet specified\u001b[0m\n",
      "  \u001b[1ml\u001b[0m\u001b[91m : Required parameter not yet specified\u001b[0m\n",
      "WHEN (vx > 0)\n",
      "AT [0, 0, 2] RELATIVE pre_guide_slit\n",
      "ROTATED [0, 2.0, 0] RELATIVE pre_guide_slit\n",
      "GROUP guides\n",
      "EXTEND %{\n",
      "n_scattering = SCATTERED - 2\n",
      "%}\n"
     ]
    }
   ],
   "source": [
    "detector.set_component_GROUP(\"beam_extraction\",\"guides\")\n",
    "detector.print_component(\"beam_extraction\")"
   ]
  },
  {
   "cell_type": "code",
   "execution_count": 16,
   "metadata": {},
   "outputs": [
    {
     "name": "stdout",
     "output_type": "stream",
     "text": [
      "COMPONENT beam_extraction = Guide_gravity\n",
      "  \u001b[1mw1\u001b[0m\u001b[91m : Required parameter not yet specified\u001b[0m\n",
      "  \u001b[1mh1\u001b[0m\u001b[91m : Required parameter not yet specified\u001b[0m\n",
      "  \u001b[1ml\u001b[0m\u001b[91m : Required parameter not yet specified\u001b[0m\n",
      "WHEN (vx > 0)\n",
      "AT [0, 0, 2] RELATIVE pre_guide_slit\n",
      "ROTATED [0, 2.0, 0] RELATIVE pre_guide_slit\n",
      "GROUP guides\n",
      "EXTEND %{\n",
      "n_scattering = SCATTERED - 2\n",
      "%}\n",
      "JUMP myself iterate 3\n"
     ]
    }
   ],
   "source": [
    "detector.set_component_JUMP(\"beam_extraction\",\"myself iterate 3\")\n",
    "detector.print_component(\"beam_extraction\")"
   ]
  },
  {
   "cell_type": "code",
   "execution_count": 17,
   "metadata": {},
   "outputs": [
    {
     "name": "stdout",
     "output_type": "stream",
     "text": [
      "// Simulating severe misalignment\n",
      "COMPONENT beam_extraction = Guide_gravity\n",
      "  \u001b[1mw1\u001b[0m\u001b[91m : Required parameter not yet specified\u001b[0m\n",
      "  \u001b[1mh1\u001b[0m\u001b[91m : Required parameter not yet specified\u001b[0m\n",
      "  \u001b[1ml\u001b[0m\u001b[91m : Required parameter not yet specified\u001b[0m\n",
      "WHEN (vx > 0)\n",
      "AT [0, 0, 2] RELATIVE pre_guide_slit\n",
      "ROTATED [0, 2.0, 0] RELATIVE pre_guide_slit\n",
      "GROUP guides\n",
      "EXTEND %{\n",
      "n_scattering = SCATTERED - 2\n",
      "%}\n",
      "JUMP myself iterate 3\n"
     ]
    }
   ],
   "source": [
    "detector.set_component_comment(\"beam_extraction\",\"Simulating severe misalignment\")\n",
    "detector.print_component(\"beam_extraction\")"
   ]
  },
  {
   "cell_type": "code",
   "execution_count": 18,
   "metadata": {},
   "outputs": [
    {
     "name": "stdout",
     "output_type": "stream",
     "text": [
      "Here are the availalbe component categories:\n",
      " sources\n",
      " optics\n",
      " samples\n",
      " monitors\n",
      " misc\n",
      " contrib\n",
      " union\n",
      " obsolete\n",
      "Call show_components(category_name) to display\n"
     ]
    }
   ],
   "source": [
    "detector.show_components()"
   ]
  },
  {
   "cell_type": "code",
   "execution_count": 19,
   "metadata": {},
   "outputs": [
    {
     "name": "stdout",
     "output_type": "stream",
     "text": [
      "Here are all components in the samples category.\n",
      " Incoherent      Phonon_simple   Res_sample      Single_crystal\n",
      " Isotropic_Sqw   Powder1         Sans_spheres    TOFRes_sample\n",
      " Magnon_bcc      PowderN         SasView_model   Tunneling_sample\n"
     ]
    }
   ],
   "source": [
    "detector.show_components(\"samples\")"
   ]
  },
  {
   "cell_type": "code",
   "execution_count": 20,
   "metadata": {},
   "outputs": [
    {
     "name": "stdout",
     "output_type": "stream",
     "text": [
      " ___ Help Phonon_simple _________________________________________________\n",
      "|\u001b[1moptional parameter\u001b[0m|\u001b[1m\u001b[4mrequired parameter\u001b[0m\u001b[0m|\u001b[1m\u001b[94mdefault value\u001b[0m\u001b[0m|\u001b[1m\u001b[92muser specified value\u001b[0m\u001b[0m|\n",
      "\u001b[4m\u001b[1mradius\u001b[0m\u001b[0m [m] // Outer radius of sample in (x,z) plane\n",
      "\u001b[4m\u001b[1myheight\u001b[0m\u001b[0m [m] // Height of sample in y direction\n",
      "\u001b[4m\u001b[1msigma_abs\u001b[0m\u001b[0m [barns] // Absorption cross section at 2200 m/s per atom\n",
      "\u001b[4m\u001b[1msigma_inc\u001b[0m\u001b[0m [barns] // Incoherent scattering cross section per atom\n",
      "\u001b[4m\u001b[1ma\u001b[0m\u001b[0m [AA] // fcc Lattice constant\n",
      "\u001b[4m\u001b[1mb\u001b[0m\u001b[0m [fm] // Scattering length\n",
      "\u001b[4m\u001b[1mM\u001b[0m\u001b[0m [a.u.] // Atomic mass\n",
      "\u001b[4m\u001b[1mc\u001b[0m\u001b[0m [meV/AA^(-1)] // Velocity of sound\n",
      "\u001b[4m\u001b[1mDW\u001b[0m\u001b[0m [1] // Debye-Waller factor\n",
      "\u001b[4m\u001b[1mT\u001b[0m\u001b[0m [K] // Temperature\n",
      "\u001b[1mtarget_x\u001b[0m = \u001b[1m\u001b[94m0\u001b[0m\u001b[0m [m] // position of target to focus at . Transverse coordinate\n",
      "\u001b[1mtarget_y\u001b[0m = \u001b[1m\u001b[94m0\u001b[0m\u001b[0m [m] // position of target to focus at. Vertical coordinate\n",
      "\u001b[1mtarget_z\u001b[0m = \u001b[1m\u001b[94m0\u001b[0m\u001b[0m [m] // position of target to focus at. Straight ahead.\n",
      "\u001b[1mtarget_index\u001b[0m = \u001b[1m\u001b[94m0\u001b[0m\u001b[0m [1] // relative index of component to focus at, e.g. next is +1\n",
      "\u001b[1mfocus_r\u001b[0m = \u001b[1m\u001b[94m0\u001b[0m\u001b[0m [m] // Radius of sphere containing target.\n",
      "\u001b[1mfocus_xw\u001b[0m = \u001b[1m\u001b[94m0\u001b[0m\u001b[0m [m] // horiz. dimension of a rectangular area\n",
      "\u001b[1mfocus_yh\u001b[0m = \u001b[1m\u001b[94m0\u001b[0m\u001b[0m [m] // vert.  dimension of a rectangular area\n",
      "\u001b[1mfocus_aw\u001b[0m = \u001b[1m\u001b[94m0\u001b[0m\u001b[0m [deg] // horiz. angular dimension of a rectangular area\n",
      "\u001b[1mfocus_ah\u001b[0m = \u001b[1m\u001b[94m0\u001b[0m\u001b[0m [deg] // vert.  angular dimension of a rectangular area\n",
      "\u001b[1mgap\u001b[0m = \u001b[1m\u001b[94m0\u001b[0m\u001b[0m [meV] // Bandgap energy (unphysical)\n",
      "-------------------------------------------------------------------------\n"
     ]
    }
   ],
   "source": [
    "detector.component_help(\"Phonon_simple\")"
   ]
  }
 ],
 "metadata": {
  "kernelspec": {
   "display_name": "Python 3",
   "language": "python",
   "name": "python3"
  },
  "language_info": {
   "codemirror_mode": {
    "name": "ipython",
    "version": 3
   },
   "file_extension": ".py",
   "mimetype": "text/x-python",
   "name": "python",
   "nbconvert_exporter": "python",
   "pygments_lexer": "ipython3",
   "version": "3.7.1"
  }
 },
 "nbformat": 4,
 "nbformat_minor": 2
}
