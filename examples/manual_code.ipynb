{
 "cells": [
  {
   "cell_type": "code",
   "execution_count": null,
   "metadata": {},
   "outputs": [],
   "source": [
    "from mcstasscript.interface import instr, plotter, functions\n",
    "\n",
    "# Creating the instance of the class, insert path to mcrun and to mcstas root directory\n",
    "detector = instr.McStas_instr(\"LOKI_detector\",\n",
    "                              mcrun_path = \"/Applications/McStas-2.5.app/Contents/Resources/mcstas/2.5/bin\",\n",
    "                              mcstas_path = \"/Applications/McStas-2.5.app/Contents/Resources/mcstas/2.5\")"
   ]
  },
  {
   "cell_type": "code",
   "execution_count": null,
   "metadata": {},
   "outputs": [],
   "source": [
    "detector.add_parameter(\"wavelength\")\n",
    "detector.add_parameter(\"height\",value=1.0,comment=\"Height in [m]\")\n",
    "detector.add_parameter(\"string\",\"reflection_filename\")\n",
    "detector.add_parameter(\"string\",\"data_filename\",value=\"\\\"data.dat\\\"\")"
   ]
  },
  {
   "cell_type": "code",
   "execution_count": null,
   "metadata": {},
   "outputs": [],
   "source": [
    "detector.add_declare_var(\"double\",\"energy\")\n",
    "detector.add_declare_var(\"int\",\"flag\")\n",
    "detector.add_declare_var(\"double\",\"tube_radius\",value=0.013)\n",
    "detector.add_declare_var(\"double\",\"displacements\",array=7)\n",
    "detector.add_declare_var(\"double\",\"t_array\",array=4,value=[0.65E-6,0.65E-6,1E-6,1E-6])"
   ]
  },
  {
   "cell_type": "code",
   "execution_count": null,
   "metadata": {},
   "outputs": [],
   "source": [
    "detector.append_initialize(\"energy=pow(2*PI/wavelength*K2V,2)*VS2E;\")"
   ]
  },
  {
   "cell_type": "code",
   "execution_count": null,
   "metadata": {},
   "outputs": [],
   "source": [
    "detector.add_component(\"Origin\",\"Arm\")\n",
    "src = detector.add_component(\"source\",\"Source_simple\",RELATIVE=\"Origin\")\n",
    "detector.add_component(\"beam_extraction\",\"Guide_gravity\",AT=[0,0,2],RELATIVE=\"source\")"
   ]
  },
  {
   "cell_type": "code",
   "execution_count": null,
   "metadata": {},
   "outputs": [],
   "source": [
    "detector.add_component(\"pre_guide_slit\",\"Slit\",before=\"beam_extraction\",\n",
    "                       AT=[0,0,1],RELATIVE=\"source\",comment=\"Slit before the guide\")"
   ]
  },
  {
   "cell_type": "code",
   "execution_count": null,
   "metadata": {},
   "outputs": [],
   "source": [
    "detector.print_components()"
   ]
  },
  {
   "cell_type": "code",
   "execution_count": null,
   "metadata": {},
   "outputs": [],
   "source": [
    "detector.set_component_parameter(\"source\",{\"xwidth\" : 0.12, \"E0\" : \"energy\"})\n",
    "detector.set_component_parameter(\"source\",{\"yheight\" : 0.12})"
   ]
  },
  {
   "cell_type": "code",
   "execution_count": null,
   "metadata": {},
   "outputs": [],
   "source": [
    "detector.print_component(\"source\")"
   ]
  },
  {
   "cell_type": "code",
   "execution_count": null,
   "metadata": {},
   "outputs": [],
   "source": [
    "detector.set_component_AT(\"source\",[0.01,0,0])"
   ]
  },
  {
   "cell_type": "code",
   "execution_count": null,
   "metadata": {},
   "outputs": [],
   "source": [
    "detector.set_component_ROTATED(\"beam_extraction\",[0,2.0,0],RELATIVE=\"Origin\")"
   ]
  },
  {
   "cell_type": "code",
   "execution_count": null,
   "metadata": {},
   "outputs": [],
   "source": [
    "detector.set_component_RELATIVE(\"beam_extraction\",\"pre_guide_slit\")"
   ]
  },
  {
   "cell_type": "code",
   "execution_count": null,
   "metadata": {},
   "outputs": [],
   "source": [
    "detector.print_components()"
   ]
  },
  {
   "cell_type": "code",
   "execution_count": null,
   "metadata": {},
   "outputs": [],
   "source": [
    "detector.set_component_WHEN(\"beam_extraction\",\"vx > 0\")\n",
    "detector.print_component(\"beam_extraction\")"
   ]
  },
  {
   "cell_type": "code",
   "execution_count": null,
   "metadata": {},
   "outputs": [],
   "source": [
    "detector.append_component_EXTEND(\"beam_extraction\",\"n_scattering = SCATTERED - 2\")\n",
    "detector.print_component(\"beam_extraction\")"
   ]
  },
  {
   "cell_type": "code",
   "execution_count": null,
   "metadata": {},
   "outputs": [],
   "source": [
    "detector.set_component_GROUP(\"beam_extraction\",\"guides\")\n",
    "detector.print_component(\"beam_extraction\")"
   ]
  },
  {
   "cell_type": "code",
   "execution_count": null,
   "metadata": {},
   "outputs": [],
   "source": [
    "detector.set_component_JUMP(\"beam_extraction\",\"myself iterate 3\")\n",
    "detector.print_component(\"beam_extraction\")"
   ]
  },
  {
   "cell_type": "code",
   "execution_count": null,
   "metadata": {},
   "outputs": [],
   "source": [
    "detector.set_component_comment(\"beam_extraction\",\"Simulating severe misalignment\")\n",
    "detector.print_component(\"beam_extraction\")"
   ]
  },
  {
   "cell_type": "code",
   "execution_count": null,
   "metadata": {},
   "outputs": [],
   "source": [
    "detector.show_components()"
   ]
  },
  {
   "cell_type": "code",
   "execution_count": null,
   "metadata": {},
   "outputs": [],
   "source": [
    "detector.show_components(\"samples\")"
   ]
  },
  {
   "cell_type": "code",
   "execution_count": null,
   "metadata": {},
   "outputs": [],
   "source": [
    "detector.component_help(\"Phonon_simple\")"
   ]
  }
 ],
 "metadata": {
  "kernelspec": {
   "display_name": "Python 3",
   "language": "python",
   "name": "python3"
  },
  "language_info": {
   "codemirror_mode": {
    "name": "ipython",
    "version": 3
   },
   "file_extension": ".py",
   "mimetype": "text/x-python",
   "name": "python",
   "nbconvert_exporter": "python",
   "pygments_lexer": "ipython3",
   "version": "3.8.8"
  }
 },
 "nbformat": 4,
 "nbformat_minor": 2
}
