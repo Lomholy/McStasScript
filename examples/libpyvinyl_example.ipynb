{
 "cells": [
  {
   "cell_type": "code",
   "execution_count": 1,
   "id": "thirty-runner",
   "metadata": {},
   "outputs": [],
   "source": [
    "from mcstasscript.interface import instr, functions, plotter"
   ]
  },
  {
   "cell_type": "markdown",
   "id": "deluxe-scroll",
   "metadata": {},
   "source": [
    "### Calculator is what I call an instrument object"
   ]
  },
  {
   "cell_type": "code",
   "execution_count": 2,
   "id": "earned-ribbon",
   "metadata": {},
   "outputs": [
    {
     "name": "stdout",
     "output_type": "stream",
     "text": [
      "The following components are found in the work_directory / input_path:\n",
      "     Union_sphere.comp\n",
      "     Texture_process.comp\n",
      "     Union_cone.comp\n",
      "     Union_box.comp\n",
      "     Single_crystal_process.comp\n",
      "     Union_abs_logger_2D_space.comp\n",
      "     Union_logger_2D_kf.comp\n",
      "     Template_process.comp\n",
      "     PhononSimple_process.comp\n",
      "     Union_conditional_standard.comp\n",
      "     Union_abs_logger_1D_space.comp\n",
      "     Union_abs_logger_event.comp\n",
      "     NCrystal_process.comp\n",
      "     Union_abs_logger_1D_space_event.comp\n",
      "     Union_abs_logger_1D_space_tof.comp\n",
      "     Union_logger_2D_space.comp\n",
      "     Union_conditional_PSD.comp\n",
      "     Union_master.comp\n",
      "     AF_HB_1D_process.comp\n",
      "     Union_logger_2D_kf_time.comp\n",
      "     Union_cylinder.comp\n",
      "     Union_abs_logger_1D_space_tof_to_lambda.comp\n",
      "     Powder_process.comp\n",
      "     Union_make_material.comp\n",
      "     Incoherent_process.comp\n",
      "     Union_logger_1D.comp\n",
      "     Union_logger_3D_space.comp\n",
      "     IncoherentPhonon_process.comp\n",
      "     Union_logger_2DQ.comp\n",
      "     Union_mesh.comp\n",
      "     Union_logger_2D_space_time.comp\n",
      "These definitions will be used instead of the installed versions.\n"
     ]
    }
   ],
   "source": [
    "calculator = instr.McStas_instr(name=\"demo_instrument\")"
   ]
  },
  {
   "cell_type": "markdown",
   "id": "inappropriate-impossible",
   "metadata": {},
   "source": [
    "### Can define parameters (libpyvinyl parameter object and collection)"
   ]
  },
  {
   "cell_type": "code",
   "execution_count": 3,
   "id": "parental-albert",
   "metadata": {},
   "outputs": [],
   "source": [
    "source_energy = calculator.add_parameter(\"double\", \"source_energy\", unit=\"meV\", comment=\"Source mean energy\")\n",
    "source_energy.add_interval(3.1, None, intervals_are_legal=True)\n",
    "\n",
    "source_height = calculator.add_parameter(\"double\", \"source_height\", unit=\"cm\", comment=\"Height of source\")\n",
    "source_height.add_interval(0.01, 0.2, intervals_are_legal=True)\n",
    "\n",
    "sample_height = calculator.add_parameter(\"sample_height\", unit=\"cm\", comment=\"Height of sample\")\n",
    "sample_height.add_interval(0.0, 0.05, intervals_are_legal=True)"
   ]
  },
  {
   "cell_type": "code",
   "execution_count": 4,
   "id": "incident-nitrogen",
   "metadata": {},
   "outputs": [
    {
     "name": "stdout",
     "output_type": "stream",
     "text": [
      "double source_energy          // Source mean energy\n",
      "double source_height          // Height of source\n",
      "       sample_height          // Height of sample\n"
     ]
    }
   ],
   "source": [
    "calculator.show_parameters()"
   ]
  },
  {
   "cell_type": "code",
   "execution_count": 5,
   "id": "subjective-battle",
   "metadata": {},
   "outputs": [
    {
     "name": "stdout",
     "output_type": "stream",
     "text": [
      " - Parameters object -\n",
      "source_energy       [meV]     Source mean energy   L[3.1, inf]\n",
      "source_height       [cm]      Height of source   L[0.01, 0.2]\n",
      "sample_height       [cm]      Height of sample   L[0.0, 0.05]\n",
      "\n"
     ]
    }
   ],
   "source": [
    "print(calculator.parameters)"
   ]
  },
  {
   "cell_type": "markdown",
   "id": "weird-dependence",
   "metadata": {},
   "source": [
    "### Can add components to the simulation as usual"
   ]
  },
  {
   "cell_type": "code",
   "execution_count": 6,
   "id": "accomplished-twelve",
   "metadata": {},
   "outputs": [],
   "source": [
    "src = calculator.add_component(\"source\", \"Source_div\")"
   ]
  },
  {
   "cell_type": "code",
   "execution_count": 7,
   "id": "foreign-developer",
   "metadata": {},
   "outputs": [],
   "source": [
    "src.xwidth = 0.12\n",
    "src.yheight = source_height\n",
    "src.E0 = source_energy\n",
    "src.dE = 3\n",
    "src.focus_aw = 3.0\n",
    "src.focus_ah = 4.0"
   ]
  },
  {
   "cell_type": "code",
   "execution_count": 8,
   "id": "champion-knife",
   "metadata": {},
   "outputs": [],
   "source": [
    "sample = calculator.add_component(\"powder\", \"PowderN\")"
   ]
  },
  {
   "cell_type": "code",
   "execution_count": 9,
   "id": "wrong-retailer",
   "metadata": {},
   "outputs": [],
   "source": [
    "sample.set_AT(1, RELATIVE=src)\n",
    "sample.reflections='\"Ni.laz\"'\n",
    "sample.radius = 0.01\n",
    "sample.yheight = sample_height"
   ]
  },
  {
   "cell_type": "code",
   "execution_count": 10,
   "id": "anticipated-tampa",
   "metadata": {},
   "outputs": [
    {
     "name": "stdout",
     "output_type": "stream",
     "text": [
      "Here are all components in the monitors category.\n",
      " Brilliance_monitor      Monitor_Sqw           Pol_monitor\n",
      " Cyl_monitor             Monitor_nD            PreMonitor_nD\n",
      " DivLambda_monitor       PSD_TOF_monitor       Res_monitor\n",
      " DivPos_monitor          PSD_monitor           Sqq_w_monitor\n",
      " Divergence_monitor      PSD_monitor_4PI       Sqw_monitor\n",
      " EPSD_monitor            PSD_monitor_TOF       TOF2E_monitor\n",
      " E_monitor               PSD_monitor_psf       TOF2Q_cylPSD_monitor\n",
      " Event_monitor_simple    PSD_monitor_psf_eff   TOFLambda_monitor\n",
      " Hdiv_monitor            PSDcyl_monitor        TOF_PSD_monitor_rad\n",
      " L_monitor               PSDlin_diff_monitor   TOF_cylPSD_monitor\n",
      " MeanPolLambda_monitor   PSDlin_monitor        TOF_monitor\n",
      " Monitor                 PolLambda_monitor     TOFlog_monitor\n",
      " Monitor_4PI             PolTOF_monitor        \n"
     ]
    }
   ],
   "source": [
    "calculator.show_components(\"monitors\")"
   ]
  },
  {
   "cell_type": "code",
   "execution_count": 11,
   "id": "experienced-arizona",
   "metadata": {},
   "outputs": [
    {
     "name": "stdout",
     "output_type": "stream",
     "text": [
      " ___ Help Cyl_monitor _______________________________________________________________\n",
      "|\u001b[1moptional parameter\u001b[0m|\u001b[1m\u001b[4mrequired parameter\u001b[0m\u001b[0m|\u001b[1m\u001b[94mdefault value\u001b[0m\u001b[0m|\u001b[1m\u001b[92muser specified value\u001b[0m\u001b[0m|\n",
      "\u001b[1mnr\u001b[0m = \u001b[1m\u001b[94m20.0\u001b[0m\u001b[0m [1] // Number of pixel (radial) columns\n",
      "\u001b[1mfilename\u001b[0m = \u001b[1m\u001b[94m0\u001b[0m\u001b[0m [string] // Name of file in which to store the detector image\n",
      "\u001b[1myheight\u001b[0m = \u001b[1m\u001b[94m10.0\u001b[0m\u001b[0m [m] // Height of detector\n",
      "\u001b[1mradius\u001b[0m = \u001b[1m\u001b[94m1.0\u001b[0m\u001b[0m [m] // Radius of detector\n",
      "\u001b[1mrestore_neutron\u001b[0m = \u001b[1m\u001b[94m0.0\u001b[0m\u001b[0m [1] // If set, the monitor does not influence the neutron \n",
      "                             state \n",
      "\u001b[1mthmin\u001b[0m = \u001b[1m\u001b[94m0.0\u001b[0m\u001b[0m\n",
      "\u001b[1mthmax\u001b[0m = \u001b[1m\u001b[94m360.0\u001b[0m\u001b[0m\n",
      "\u001b[1mnowritefile\u001b[0m = \u001b[1m\u001b[94m0\u001b[0m\u001b[0m [1] // If set, monitor will skip writing to disk\n",
      "-------------------------------------------------------------------------------------\n"
     ]
    }
   ],
   "source": [
    "calculator.component_help(\"Cyl_monitor\")"
   ]
  },
  {
   "cell_type": "code",
   "execution_count": 12,
   "id": "wooden-helicopter",
   "metadata": {},
   "outputs": [],
   "source": [
    "cyl = calculator.add_component(\"cyl_monitor\", \"Cyl_monitor\")"
   ]
  },
  {
   "cell_type": "code",
   "execution_count": 13,
   "id": "preliminary-training",
   "metadata": {},
   "outputs": [],
   "source": [
    "cyl.nr = 200\n",
    "cyl.filename = '\"cylinder.dat\"'\n",
    "cyl.yheight = 0.2\n",
    "cyl.radius = 0.5\n",
    "cyl.restore_neutron = 1\n",
    "cyl.set_AT(0, RELATIVE=sample)"
   ]
  },
  {
   "cell_type": "code",
   "execution_count": 14,
   "id": "official-withdrawal",
   "metadata": {},
   "outputs": [],
   "source": [
    "mon = calculator.add_component(\"acceptance_horizontal\", \"DivPos_monitor\")"
   ]
  },
  {
   "cell_type": "code",
   "execution_count": 15,
   "id": "colored-policy",
   "metadata": {},
   "outputs": [],
   "source": [
    "mon.xwidth = 0.2\n",
    "mon.yheight = 0.2\n",
    "mon.maxdiv_h = 30.0\n",
    "mon.filename = '\"acceptance_h.dat\"'\n",
    "mon.restore_neutron = 1\n",
    "mon.nh = 300\n",
    "mon.ndiv = 300\n",
    "mon.set_AT(0.1, RELATIVE=sample)"
   ]
  },
  {
   "cell_type": "code",
   "execution_count": 16,
   "id": "based-torture",
   "metadata": {},
   "outputs": [
    {
     "name": "stdout",
     "output_type": "stream",
     "text": [
      "source                Source_div     AT      (0, 0, 0)   ABSOLUTE       \n",
      "powder                PowderN        AT      (0, 0, 1)   RELATIVE source\n",
      "cyl_monitor           Cyl_monitor    AT      (0, 0, 0)   RELATIVE powder\n",
      "acceptance_horizontal DivPos_monitor AT      (0, 0, 0.1) RELATIVE powder\n"
     ]
    }
   ],
   "source": [
    "calculator.print_components()"
   ]
  },
  {
   "cell_type": "markdown",
   "id": "august-words",
   "metadata": {},
   "source": [
    "### Could set parameters with a syntax like this"
   ]
  },
  {
   "cell_type": "code",
   "execution_count": 17,
   "id": "premier-eleven",
   "metadata": {},
   "outputs": [],
   "source": [
    "calculator.set_parameters({\"source_energy\": 320, \"source_height\":0.025, \"sample_height\":0.04})"
   ]
  },
  {
   "cell_type": "code",
   "execution_count": 18,
   "id": "smooth-cholesterol",
   "metadata": {},
   "outputs": [],
   "source": [
    "calculator.settings(ncount=5E6, mpi=2, output_path=\"path_to_output\")"
   ]
  },
  {
   "cell_type": "markdown",
   "id": "dependent-garlic",
   "metadata": {},
   "source": [
    "### Run with backengine"
   ]
  },
  {
   "cell_type": "code",
   "execution_count": 19,
   "id": "daily-louisiana",
   "metadata": {},
   "outputs": [
    {
     "name": "stdout",
     "output_type": "stream",
     "text": [
      "INFO: Using directory: \"/Users/madsbertelsen/PaNOSC/McStasScript/github/McStasScript/examples/path_to_output_4\"\n",
      "INFO: Regenerating c-file: demo_instrument.c\n",
      "CFLAGS=\n",
      "INFO: Recompiling: ./demo_instrument.out\n",
      "mccode-r.c:1880:1: warning: non-void function does not return a value in all control paths [-Wreturn-type]\n",
      "} /* mcsiminfo_init */\n",
      "^\n",
      "mccode-r.c:2837:3: warning: expression result unused [-Wunused-value]\n",
      "  *t0;\n",
      "  ^~~\n",
      "2 warnings generated.\n",
      "INFO: ===\n",
      "Warning: 12132 events were removed in Component[4] acceptance_horizontal=DivPos_monitor()\n",
      "         (negative time, miss next components, rounding errors, Nan, Inf).\n",
      "Warning: 12144 events were removed in Component[4] acceptance_horizontal=DivPos_monitor()\n",
      "         (negative time, miss next components, rounding errors, Nan, Inf).\n",
      "INFO: Placing instr file copy demo_instrument.instr in dataset /Users/madsbertelsen/PaNOSC/McStasScript/github/McStasScript/examples/path_to_output_4\n",
      "\n",
      "  Simulation 'demo_instrument' (demo_instrument.instr): running on 2 nodes (master is 'CI0021617', MPI version 3.1).\n",
      "Opening input file '/Applications/McStas-2.7.1.app/Contents/Resources/mcstas/2.7.1//data/Ni.laz' (Table_Read_Offset)\n",
      "Table from file 'Ni.laz' (block 1) is 19 x 18 (x=1:6), constant step. interpolation: linear\n",
      "  '# TITLE *Nickel-Ni-[FM3-M] Swanson, H.E.;Tatge, E.[1954] [carcinogen];# CEL ...'\n",
      "PowderN: powder: Reading 19 rows from Ni.laz\n",
      "PowderN: powder: Read 19 reflections from file 'Ni.laz'\n",
      "PowderN: powder: Vc=43.76 [Angs] sigma_abs=17.96 [barn] sigma_inc=20.8 [barn] reflections=Ni.laz\n",
      "Detector: cyl_monitor_I=0.02597 cyl_monitor_ERR=0.000114161 cyl_monitor_N=136619 \"cylinder.dat\"\n",
      "Detector: acceptance_horizontal_I=0.620813 acceptance_horizontal_ERR=0.000300875 acceptance_horizontal_N=4.73624e+06 \"acceptance_h.dat\"\n",
      "PowderN: powder: Info: you may highly improve the computation efficiency by using\n",
      "    SPLIT 19 COMPONENT powder=PowderN(...)\n",
      "  in the instrument description demo_instrument.instr.\n",
      "loading system configuration\n",
      "\n"
     ]
    }
   ],
   "source": [
    "calculator.backengine()"
   ]
  },
  {
   "cell_type": "markdown",
   "id": "talented-poison",
   "metadata": {},
   "source": [
    "### Get data"
   ]
  },
  {
   "cell_type": "code",
   "execution_count": 20,
   "id": "global-loading",
   "metadata": {},
   "outputs": [],
   "source": [
    "data = calculator.data"
   ]
  },
  {
   "cell_type": "markdown",
   "id": "engaged-syria",
   "metadata": {},
   "source": [
    "### Plot data"
   ]
  },
  {
   "cell_type": "code",
   "execution_count": 21,
   "id": "retired-brick",
   "metadata": {},
   "outputs": [
    {
     "name": "stdout",
     "output_type": "stream",
     "text": [
      "Plotting data with name cyl_monitor\n",
      "Plotting data with name acceptance_horizontal\n"
     ]
    },
    {
     "data": {
      "image/png": "[encoded data removed]",
      "text/plain": [
       "<Figure size 936x504 with 3 Axes>"
      ]
     },
     "metadata": {
      "needs_background": "light"
     },
     "output_type": "display_data"
    }
   ],
   "source": [
    "plotter.make_sub_plot(data, log=True, cut_max=0.011, orders_of_mag=1.5)"
   ]
  },
  {
   "cell_type": "markdown",
   "id": "applied-florence",
   "metadata": {},
   "source": [
    "### Store in dump file"
   ]
  },
  {
   "cell_type": "code",
   "execution_count": 22,
   "id": "affiliated-british",
   "metadata": {},
   "outputs": [
    {
     "data": {
      "text/plain": [
       "'dump_file.dmp'"
      ]
     },
     "execution_count": 22,
     "metadata": {},
     "output_type": "execute_result"
    }
   ],
   "source": [
    "calculator.dump(\"dump_file.dmp\")"
   ]
  },
  {
   "cell_type": "markdown",
   "id": "rotary-military",
   "metadata": {},
   "source": [
    "### Load from dump file"
   ]
  },
  {
   "cell_type": "code",
   "execution_count": 23,
   "id": "pleasant-machine",
   "metadata": {},
   "outputs": [
    {
     "name": "stdout",
     "output_type": "stream",
     "text": [
      "The following components are found in the work_directory / input_path:\n",
      "     Union_sphere.comp\n",
      "     Texture_process.comp\n",
      "     Union_cone.comp\n",
      "     Union_box.comp\n",
      "     Single_crystal_process.comp\n",
      "     Union_abs_logger_2D_space.comp\n",
      "     Union_logger_2D_kf.comp\n",
      "     Template_process.comp\n",
      "     PhononSimple_process.comp\n",
      "     Union_conditional_standard.comp\n",
      "     Union_abs_logger_1D_space.comp\n",
      "     Union_abs_logger_event.comp\n",
      "     NCrystal_process.comp\n",
      "     Union_abs_logger_1D_space_event.comp\n",
      "     Union_abs_logger_1D_space_tof.comp\n",
      "     Union_logger_2D_space.comp\n",
      "     Union_conditional_PSD.comp\n",
      "     Union_master.comp\n",
      "     AF_HB_1D_process.comp\n",
      "     Union_logger_2D_kf_time.comp\n",
      "     Union_cylinder.comp\n",
      "     Union_abs_logger_1D_space_tof_to_lambda.comp\n",
      "     Powder_process.comp\n",
      "     Union_make_material.comp\n",
      "     Incoherent_process.comp\n",
      "     Union_logger_1D.comp\n",
      "     Union_logger_3D_space.comp\n",
      "     IncoherentPhonon_process.comp\n",
      "     Union_logger_2DQ.comp\n",
      "     Union_mesh.comp\n",
      "     Union_logger_2D_space_time.comp\n",
      "These definitions will be used instead of the installed versions.\n"
     ]
    }
   ],
   "source": [
    "from_dump = instr.McStas_instr(\"\", dumpfile='dump_file.dmp')"
   ]
  },
  {
   "cell_type": "code",
   "execution_count": 24,
   "id": "experienced-reminder",
   "metadata": {},
   "outputs": [
    {
     "name": "stdout",
     "output_type": "stream",
     "text": [
      "demo_instrument\n",
      "source                Source_div     AT      (0, 0, 0)   ABSOLUTE       \n",
      "powder                PowderN        AT      (0, 0, 1)   RELATIVE source\n",
      "cyl_monitor           Cyl_monitor    AT      (0, 0, 0)   RELATIVE powder\n",
      "acceptance_horizontal DivPos_monitor AT      (0, 0, 0.1) RELATIVE powder\n"
     ]
    }
   ],
   "source": [
    "print(from_dump.name)\n",
    "from_dump.print_components()"
   ]
  },
  {
   "cell_type": "code",
   "execution_count": 25,
   "id": "talented-cheese",
   "metadata": {},
   "outputs": [
    {
     "name": "stdout",
     "output_type": "stream",
     "text": [
      "/********************************************************************************\n",
      "* \n",
      "* McStas, neutron ray-tracing package\n",
      "*         Copyright (C) 1997-2008, All rights reserved\n",
      "*         Risoe National Laboratory, Roskilde, Denmark\n",
      "*         Institut Laue Langevin, Grenoble, France\n",
      "* \n",
      "* This file was written by McStasScript, which is a \n",
      "* python based McStas instrument generator written by \n",
      "* Mads Bertelsen in 2019 while employed at the \n",
      "* European Spallation Source Data Management and \n",
      "* Software Center\n",
      "* \n",
      "* Instrument demo_instrument\n",
      "* \n",
      "* %Identification\n",
      "* Written by: Python McStas Instrument Generator\n",
      "* Date: 17:07:30 on December 10, 2021\n",
      "* Origin: ESS DMSC\n",
      "* %INSTRUMENT_SITE: Generated_instruments\n",
      "* \n",
      "* \n",
      "* %Parameters\n",
      "* \n",
      "* %End \n",
      "********************************************************************************/\n",
      "\n",
      "DEFINE INSTRUMENT demo_instrument (\n",
      "double source_energy = 320,// Source mean energy\n",
      "double source_height = 0.025,// Height of source\n",
      " sample_height = 0.04 // Height of sample\n",
      ")\n",
      "\n",
      "DECLARE \n",
      "%{\n",
      "%}\n",
      "\n",
      "INITIALIZE \n",
      "%{\n",
      "// Start of initialize for generated demo_instrument\n",
      "%}\n",
      "\n",
      "TRACE \n",
      "COMPONENT source = Source_div(\n",
      " xwidth = 0.12, yheight = source_height,\n",
      " focus_aw = 3, focus_ah = 4,\n",
      " E0 = source_energy, dE = 3)\n",
      "AT (0,0,0) ABSOLUTE\n",
      "\n",
      "COMPONENT powder = PowderN(\n",
      " reflections = \"Ni.laz\", radius = 0.01,\n",
      " yheight = sample_height)\n",
      "AT (0,0,1) RELATIVE source\n",
      "\n",
      "COMPONENT cyl_monitor = Cyl_monitor(\n",
      " nr = 200, filename = \"cylinder.dat\",\n",
      " yheight = 0.2, radius = 0.5,\n",
      " restore_neutron = 1)\n",
      "AT (0,0,0) RELATIVE powder\n",
      "\n",
      "COMPONENT acceptance_horizontal = DivPos_monitor(\n",
      " nh = 300, ndiv = 300,\n",
      " filename = \"acceptance_h.dat\", xwidth = 0.2,\n",
      " yheight = 0.2, maxdiv_h = 30,\n",
      " restore_neutron = 1)\n",
      "AT (0,0,0.1) RELATIVE powder\n",
      "\n",
      "FINALLY \n",
      "%{\n",
      "// Start of finally for generated demo_instrument\n",
      "%}\n",
      "\n",
      "END\n",
      "\n"
     ]
    }
   ],
   "source": [
    "with open(\"demo_instrument.instr\", \"r\") as f:\n",
    "    instrument_file = f.read()\n",
    "print(instrument_file)"
   ]
  },
  {
   "cell_type": "code",
   "execution_count": null,
   "id": "collectible-patrick",
   "metadata": {},
   "outputs": [],
   "source": []
  }
 ],
 "metadata": {
  "kernelspec": {
   "display_name": "Python 3",
   "language": "python",
   "name": "python3"
  },
  "language_info": {
   "codemirror_mode": {
    "name": "ipython",
    "version": 3
   },
   "file_extension": ".py",
   "mimetype": "text/x-python",
   "name": "python",
   "nbconvert_exporter": "python",
   "pygments_lexer": "ipython3",
   "version": "3.8.8"
  }
 },
 "nbformat": 4,
 "nbformat_minor": 5
}
