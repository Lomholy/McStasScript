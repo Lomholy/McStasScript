{
 "cells": [
  {
   "cell_type": "markdown",
   "metadata": {},
   "source": [
    "# Demonstration of McStasScript\n",
    "This file demonstrates how McStasScript can be used to run McStas from a python environment in a userfreindly manner."
   ]
  },
  {
   "cell_type": "code",
   "execution_count": null,
   "metadata": {},
   "outputs": [],
   "source": [
    "from mcstasscript.interface import instr, plotter, functions\n",
    "\n",
    "# Creating the instance of the class, insert path to mcrun and to mcstas root directory\n",
    "Instr = instr.McStas_instr(\"jupyter_demo\")"
   ]
  },
  {
   "cell_type": "code",
   "execution_count": null,
   "metadata": {},
   "outputs": [],
   "source": [
    "Instr.show_components() # Shows available McStas component categories in current installation"
   ]
  },
  {
   "cell_type": "code",
   "execution_count": null,
   "metadata": {},
   "outputs": [],
   "source": [
    "Instr.show_components(\"sources\") # Display all McStas source components "
   ]
  },
  {
   "cell_type": "code",
   "execution_count": null,
   "metadata": {},
   "outputs": [],
   "source": [
    "Instr.component_help(\"Source_simple\") # Displays help on the Source_simple component"
   ]
  },
  {
   "cell_type": "code",
   "execution_count": null,
   "metadata": {},
   "outputs": [],
   "source": [
    "source = Instr.add_component(\"Source\", \"Source_simple\") # Adds an instance of Source_simple"
   ]
  },
  {
   "cell_type": "code",
   "execution_count": null,
   "metadata": {},
   "outputs": [],
   "source": [
    "# Lets add a parameter to the instrument to control the wavelength of the source\n",
    "wavelength = Instr.add_parameter(\"double\", \"wavelength\", value=3,\n",
    "                                 comment=\"[AA] Wavelength emmited from source\")\n",
    "source.xwidth = 0.06\n",
    "source.yheight = 0.08;\n",
    "source.dist = 2\n",
    "source.focus_xw = 0.05\n",
    "source.focus_yh = 0.05\n",
    "source.lambda0 = wavelength # Can provide a parameter object, in this way spelling is checked\n",
    "source.dlambda = 0.05\n",
    "source.flux = 1E8"
   ]
  },
  {
   "cell_type": "code",
   "execution_count": null,
   "metadata": {},
   "outputs": [],
   "source": [
    "print(source) # Verify that the information is correct"
   ]
  },
  {
   "cell_type": "code",
   "execution_count": null,
   "metadata": {},
   "outputs": [],
   "source": [
    "guide = Instr.add_component(\"Guide\", \"Guide_gravity\", AT=[0,0,2], RELATIVE=\"Source\")\n",
    "guide.set_comment=\"Beam extraction and first guide piece\""
   ]
  },
  {
   "cell_type": "code",
   "execution_count": null,
   "metadata": {},
   "outputs": [],
   "source": [
    "guide.show_parameters() # Lets view the parameters available in our guide component"
   ]
  },
  {
   "cell_type": "code",
   "execution_count": null,
   "metadata": {},
   "outputs": [],
   "source": [
    "guide.set_parameters(w1=0.05, w2=0.05, h1=0.05, h2=0.05, l=8, m=3.5, G=-9.2)"
   ]
  },
  {
   "cell_type": "code",
   "execution_count": null,
   "metadata": {},
   "outputs": [],
   "source": [
    "print(guide) # Verify the information on this component is correct"
   ]
  },
  {
   "cell_type": "code",
   "execution_count": null,
   "metadata": {},
   "outputs": [],
   "source": [
    "# Add a sample to the instrument\n",
    "sample = Instr.add_component(\"sample\", \"PowderN\", AT=[0, 0, 9], RELATIVE=\"Guide\") "
   ]
  },
  {
   "cell_type": "code",
   "execution_count": null,
   "metadata": {},
   "outputs": [],
   "source": [
    "# Set parameters corresponding to a copper cylinder\n",
    "sample.radius = 0.015\n",
    "sample.yheight = 0.05\n",
    "sample.reflections = '\"Cu.laz\"'"
   ]
  },
  {
   "cell_type": "code",
   "execution_count": null,
   "metadata": {},
   "outputs": [],
   "source": [
    "Instr.show_components(\"monitors\") # Monitors are needed to record information"
   ]
  },
  {
   "cell_type": "code",
   "execution_count": null,
   "metadata": {},
   "outputs": [],
   "source": [
    "# Add 4PI detector to detect all neutrons\n",
    "sphere = Instr.add_component(\"PSD_4PI\", \"PSD_monitor_4PI\", RELATIVE=\"sample\")"
   ]
  },
  {
   "cell_type": "code",
   "execution_count": null,
   "metadata": {},
   "outputs": [],
   "source": [
    "sphere.nx = 300\n",
    "sphere.ny = 300\n",
    "sphere.radius = 1\n",
    "sphere.restore_neutron = 1\n",
    "sphere.filename = '\"PSD_4PI.dat\"' # filenames need printed quotes, use both ' and \"\n",
    "print(sphere) # Verify that monitors have filenames that are strings when printed"
   ]
  },
  {
   "cell_type": "code",
   "execution_count": null,
   "metadata": {},
   "outputs": [],
   "source": [
    "# Add PSD monitor to see the direct beam after the sample\n",
    "PSD = Instr.add_component(\"PSD\", \"PSD_monitor\", AT=[0,0,1], RELATIVE=\"sample\") \n",
    "PSD.xwidth = 0.1\n",
    "PSD.yheight = 0.1\n",
    "PSD.nx = 200\n",
    "PSD.ny = 200\n",
    "PSD.filename = '\"PSD.dat\"'\n",
    "PSD.restore_neutron = 1"
   ]
  },
  {
   "cell_type": "code",
   "execution_count": null,
   "metadata": {},
   "outputs": [],
   "source": [
    "L_mon = Instr.add_component(\"L_mon\", \"L_monitor\", RELATIVE=\"PSD\")"
   ]
  },
  {
   "cell_type": "code",
   "execution_count": null,
   "metadata": {},
   "outputs": [],
   "source": [
    "# Since the wavelength is an instrument parameter, it can be used when setting parameters\n",
    "L_mon.Lmin = \"wavelength - 0.1\"\n",
    "L_mon.Lmax = \"wavelength + 0.1\"; L_mon.nL = 150\n",
    "L_mon.xwidth = 0.1\n",
    "L_mon.yheight = 0.1\n",
    "L_mon.filename = '\"wave.dat\"'\n",
    "L_mon.restore_neutron = 1\n",
    "L_mon.comment = \"Wavelength monitor for narrow range\""
   ]
  },
  {
   "cell_type": "code",
   "execution_count": null,
   "metadata": {},
   "outputs": [],
   "source": [
    "print(L_mon)"
   ]
  },
  {
   "cell_type": "code",
   "execution_count": null,
   "metadata": {},
   "outputs": [],
   "source": [
    "Instr.print_components() # Lets get an overview of the instrument so far"
   ]
  },
  {
   "cell_type": "code",
   "execution_count": null,
   "metadata": {},
   "outputs": [],
   "source": [
    "Instr.show_parameters()"
   ]
  },
  {
   "cell_type": "markdown",
   "metadata": {},
   "source": [
    "# Running the McStas instrument\n",
    "Now we have assembled an instrument and it is time to perform a simulation"
   ]
  },
  {
   "cell_type": "code",
   "execution_count": null,
   "metadata": {},
   "outputs": [],
   "source": [
    "# output_path specifies the foldername, if it already exists an index is added\n",
    "Instr.settings(output_path=\"jupyter_demo\", mpi=4, ncount=2E7)\n",
    "Instr.show_settings() # Check settings are correct"
   ]
  },
  {
   "cell_type": "code",
   "execution_count": null,
   "metadata": {},
   "outputs": [],
   "source": [
    "# Input parameters are set with set_parameters\n",
    "Instr.set_parameters(wavelength=1.5)\n",
    "Instr.show_parameters()"
   ]
  },
  {
   "cell_type": "code",
   "execution_count": null,
   "metadata": {},
   "outputs": [],
   "source": [
    "# The simulation is performed by calling backengine()\n",
    "Instr.backengine()\n",
    "\n",
    "# The data is retrieved from the data attribute\n",
    "data = Instr.data"
   ]
  },
  {
   "cell_type": "markdown",
   "metadata": {},
   "source": [
    "## Working with the returned data\n",
    "The returned data object is a list of McStasData objects, each containing the results from a monitor.\n",
    "These data objects also contain preferences for how they should be plotted if this is done automatically."
   ]
  },
  {
   "cell_type": "code",
   "execution_count": null,
   "metadata": {},
   "outputs": [],
   "source": [
    "wavelength_data = functions.name_search(\"L_mon\", data)\n",
    "wavelength_intensity = wavelength_data.Intensity\n",
    "wavelength_xaxis = wavelength_data.xaxis\n",
    "\n",
    "for index in range(70,75):\n",
    "    print([wavelength_xaxis[index], wavelength_intensity[index]])"
   ]
  },
  {
   "cell_type": "markdown",
   "metadata": {},
   "source": [
    "## Plotting the returned data\n",
    "The plot options looks at some metadata in the McStasData for plotting preferences. For this reason these options can be adjusted for individual data files instead of complex syntax for the plotting command."
   ]
  },
  {
   "cell_type": "code",
   "execution_count": null,
   "metadata": {},
   "outputs": [],
   "source": [
    "# Adjusting PSD_4PI plot\n",
    "functions.name_plot_options(\"PSD_4PI\", data, log=1, colormap=\"hot\", orders_of_mag=5)\n",
    "\n",
    "plot = plotter.make_sub_plot(data) # Making subplot of our monitors"
   ]
  }
 ],
 "metadata": {
  "kernelspec": {
   "display_name": "Python 3",
   "language": "python",
   "name": "python3"
  },
  "language_info": {
   "codemirror_mode": {
    "name": "ipython",
    "version": 3
   },
   "file_extension": ".py",
   "mimetype": "text/x-python",
   "name": "python",
   "nbconvert_exporter": "python",
   "pygments_lexer": "ipython3",
   "version": "3.8.8"
  }
 },
 "nbformat": 4,
 "nbformat_minor": 2
}
